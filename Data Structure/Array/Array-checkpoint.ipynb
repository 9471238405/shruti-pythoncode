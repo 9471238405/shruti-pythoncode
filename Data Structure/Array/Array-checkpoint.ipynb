{
 "cells": [
  {
   "cell_type": "code",
   "execution_count": 5,
   "id": "9d6844ee",
   "metadata": {},
   "outputs": [
    {
     "name": "stdout",
     "output_type": "stream",
     "text": [
      "[]\n",
      "[1 2 3 4]\n"
     ]
    }
   ],
   "source": [
    "##creating an array\n",
    "import array\n",
    "import numpy as np\n",
    "np_array = np.array([],dtype=int)\n",
    "print(np_array)\n",
    "np_array1 = np.array([1,2,3,4])\n",
    "print(np_array1)"
   ]
  },
  {
   "cell_type": "code",
   "execution_count": 9,
   "id": "017e0664",
   "metadata": {},
   "outputs": [
    {
     "name": "stdout",
     "output_type": "stream",
     "text": [
      "array('i', [1, 2, 3, 4])\n",
      "array('i', [6, 1, 2, 3, 4])\n"
     ]
    }
   ],
   "source": [
    "##inserting a number in an  array\n",
    "my_array1 = array.array('i',[1,2,3,4])\n",
    "print(my_array1)\n",
    "my_array1.insert(0,6) ##for 1 position \n",
    "print(my_array1)"
   ]
  },
  {
   "cell_type": "code",
   "execution_count": 12,
   "id": "b692d82d",
   "metadata": {},
   "outputs": [
    {
     "name": "stdout",
     "output_type": "stream",
     "text": [
      "1\n",
      "2\n",
      "3\n",
      "4\n",
      "5\n"
     ]
    }
   ],
   "source": [
    "## traversal of an array\n",
    "from array import*\n",
    "arr1= array('i',[1,2,3,4,5])\n",
    "def traversal(array):  ##traversal means visiting each element once\n",
    "    for i in array:\n",
    "        print(i)\n",
    "traversal(arr1)"
   ]
  },
  {
   "cell_type": "code",
   "execution_count": 14,
   "id": "dfe77486",
   "metadata": {},
   "outputs": [
    {
     "name": "stdout",
     "output_type": "stream",
     "text": [
      "4\n"
     ]
    }
   ],
   "source": [
    "##accessing the element\n",
    "array1=array('i',[1,2,3,4,5])\n",
    "def access(array,index):\n",
    "    if index>=len(array):\n",
    "        print(\"is not any  element in tthe array\")\n",
    "    else:\n",
    "        print(array[index])\n",
    "access(array1,3)  ##at index 3 the elelment is 4"
   ]
  },
  {
   "cell_type": "code",
   "execution_count": 19,
   "id": "5e84a06b",
   "metadata": {},
   "outputs": [
    {
     "name": "stdout",
     "output_type": "stream",
     "text": [
      "3\n"
     ]
    }
   ],
   "source": [
    "##searching the element in an array\n",
    "arr1=array('i',[1,2,3,4,5])\n",
    "def search(array,target):\n",
    "    for i  in range(len(array)):\n",
    "        if array[i] == target:\n",
    "            return i\n",
    "    return -1\n",
    "print(search(arr1,4))"
   ]
  },
  {
   "cell_type": "code",
   "execution_count": 20,
   "id": "9c5963da",
   "metadata": {},
   "outputs": [
    {
     "name": "stdout",
     "output_type": "stream",
     "text": [
      "array('i', [1, 2, 45, 56])\n"
     ]
    }
   ],
   "source": [
    "##deleting the  element in an array\n",
    "arr1=array('i',[1,2,3,45,56])\n",
    "arr1.remove(3)\n",
    "print(arr1)"
   ]
  },
  {
   "cell_type": "code",
   "execution_count": 28,
   "id": "5100ac39",
   "metadata": {},
   "outputs": [
    {
     "name": "stdout",
     "output_type": "stream",
     "text": [
      "[[1 2 3 4]\n",
      " [5 6 7 8]\n",
      " [9 8 7 6]\n",
      " [2 6 9 8]]\n"
     ]
    }
   ],
   "source": [
    "##two-d array\n",
    "import numpy as np\n",
    "tda = np.array([[1,2,3,4],[5,6,7,8],[9,8,7,6],[2,6,9,8]])\n",
    "print(tda)"
   ]
  },
  {
   "cell_type": "code",
   "execution_count": 31,
   "id": "9058bf36",
   "metadata": {},
   "outputs": [],
   "source": [
    "##inserting two-d array\n",
    "import numpy as np\n",
    "tda = np.array([[1,2,3,4],[5,6,7,8],[9,8,7,6],[2,6,9,8]])\n",
    "new_array=np.insert(tda,0,[3,4,5,6],axis=0)\n",
    "##axis =0 for row and axis =1 for column"
   ]
  },
  {
   "cell_type": "code",
   "execution_count": 32,
   "id": "b3a272a0",
   "metadata": {},
   "outputs": [
    {
     "name": "stdout",
     "output_type": "stream",
     "text": [
      "[[3 4 5 6]\n",
      " [1 2 3 4]\n",
      " [5 6 7 8]\n",
      " [9 8 7 6]\n",
      " [2 6 9 8]]\n"
     ]
    }
   ],
   "source": [
    "print(new_array)"
   ]
  },
  {
   "cell_type": "code",
   "execution_count": 33,
   "id": "9e1d4ef4",
   "metadata": {},
   "outputs": [
    {
     "name": "stdout",
     "output_type": "stream",
     "text": [
      "[[1 2 3 4]\n",
      " [5 6 7 8]\n",
      " [9 8 7 6]\n",
      " [2 6 9 8]]\n",
      "7\n"
     ]
    }
   ],
   "source": [
    "#asscess an element in an array\n",
    "tda = np.array([[1,2,3,4],[5,6,7,8],[9,8,7,6],[2,6,9,8]])\n",
    "print(tda)\n",
    "def access(array,row,column):\n",
    "    if row>=len(array)or column>=len(array[0]):\n",
    "        print('incorrect')\n",
    "    else:\n",
    "        print(array[row][column])\n",
    "access(tda,1,2)\n",
    "        "
   ]
  },
  {
   "cell_type": "code",
   "execution_count": 37,
   "id": "60b569ce",
   "metadata": {},
   "outputs": [
    {
     "name": "stdout",
     "output_type": "stream",
     "text": [
      "[[1 2 3 4]\n",
      " [5 6 7 8]\n",
      " [9 8 7 6]\n",
      " [2 6 9 8]]\n",
      "1\n",
      "2\n",
      "3\n",
      "4\n",
      "5\n",
      "6\n",
      "7\n",
      "8\n",
      "9\n",
      "8\n",
      "7\n",
      "6\n",
      "2\n",
      "6\n",
      "9\n",
      "8\n"
     ]
    }
   ],
   "source": [
    "##traversal\n",
    "tda = np.array([[1,2,3,4],[5,6,7,8],[9,8,7,6],[2,6,9,8]])\n",
    "print(tda)\n",
    "def traverse(array):\n",
    "    for i in range(len(array)):\n",
    "        for j in range(len(array[0])):\n",
    "            print(array[i][j])\n",
    "traverse(tda)"
   ]
  },
  {
   "cell_type": "code",
   "execution_count": 63,
   "id": "2d2a6a58",
   "metadata": {},
   "outputs": [
    {
     "name": "stdout",
     "output_type": "stream",
     "text": [
      "[[1 2 3 4]\n",
      " [5 6 7 8]\n",
      " [9 8 7 6]\n",
      " [2 6 9 8]]\n",
      "found0 2\n"
     ]
    }
   ],
   "source": [
    "# searching an element\n",
    "tda = np.array([[1,2,3,4],[5,6,7,8],[9,8,7,6],[2,6,9,8]])\n",
    "print (tda)\n",
    "def search(array,value):\n",
    "    for i in range (len(array)):\n",
    "        for j in range (len(array[0])):\n",
    "            if array[i][j]==value:\n",
    "                return 'found' + str(i) + \" \" + str(j)\n",
    "    return 'not'\n",
    "print(search(tda,3))          "
   ]
  },
  {
   "cell_type": "code",
   "execution_count": 49,
   "id": "f2b038e5",
   "metadata": {},
   "outputs": [
    {
     "name": "stdout",
     "output_type": "stream",
     "text": [
      "[[5 6 7 8]\n",
      " [9 8 7 6]\n",
      " [2 6 9 8]]\n"
     ]
    }
   ],
   "source": [
    "##delete columnor row in an array\n",
    "tda = np.array([[1,2,3,4],[5,6,7,8],[9,8,7,6],[2,6,9,8]])\n",
    "new_array=np.delete(tda,0,axis=0)\n",
    "print(new_array)"
   ]
  },
  {
   "cell_type": "code",
   "execution_count": null,
   "id": "9771dbfb",
   "metadata": {},
   "outputs": [],
   "source": []
  }
 ],
 "metadata": {
  "kernelspec": {
   "display_name": "Python 3 (ipykernel)",
   "language": "python",
   "name": "python3"
  },
  "language_info": {
   "codemirror_mode": {
    "name": "ipython",
    "version": 3
   },
   "file_extension": ".py",
   "mimetype": "text/x-python",
   "name": "python",
   "nbconvert_exporter": "python",
   "pygments_lexer": "ipython3",
   "version": "3.9.13"
  }
 },
 "nbformat": 4,
 "nbformat_minor": 5
}
